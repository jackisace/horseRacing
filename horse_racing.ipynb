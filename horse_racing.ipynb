{
  "cells": [
    {
      "cell_type": "markdown",
      "metadata": {
        "id": "view-in-github",
        "colab_type": "text"
      },
      "source": [
        "<a href=\"https://colab.research.google.com/github/jackisace/horseRacing/blob/main/horse_racing.ipynb\" target=\"_parent\"><img src=\"https://colab.research.google.com/assets/colab-badge.svg\" alt=\"Open In Colab\"/></a>"
      ]
    },
    {
      "cell_type": "code",
      "source": [
        "!git clone https://github.com/jackisace/horseRacing.git\n",
        "%cd horseRacing\n",
        "!python run_algo.py\n"
      ],
      "metadata": {
        "id": "2ckoWQmVkBHj",
        "outputId": "df9193dd-6345-4c0f-a6c3-455aef7c23f7",
        "colab": {
          "base_uri": "https://localhost:8080/"
        }
      },
      "execution_count": null,
      "outputs": [
        {
          "output_type": "stream",
          "name": "stdout",
          "text": [
            "Cloning into 'horseRacing'...\n",
            "remote: Enumerating objects: 60309, done.\u001b[K\n",
            "remote: Counting objects: 100% (161/161), done.\u001b[K\n",
            "remote: Compressing objects: 100% (86/86), done.\u001b[K\n",
            "remote: Total 60309 (delta 77), reused 149 (delta 75), pack-reused 60148\u001b[K\n",
            "Receiving objects: 100% (60309/60309), 220.45 MiB | 16.67 MiB/s, done.\n"
          ]
        }
      ]
    }
  ],
  "metadata": {
    "colab": {
      "name": "horse racing",
      "toc_visible": true,
      "provenance": [],
      "include_colab_link": true
    },
    "kernelspec": {
      "display_name": "Python 3",
      "name": "python3"
    }
  },
  "nbformat": 4,
  "nbformat_minor": 0
}