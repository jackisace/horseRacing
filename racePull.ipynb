{
 "cells": [
  {
   "cell_type": "code",
   "execution_count": 2,
   "metadata": {},
   "outputs": [],
   "source": [
    "import requests\n",
    "from bs4 import BeautifulSoup\n",
    "import time\n",
    "import random\n",
    "import datetime\n",
    "\n",
    "url = \"https://www.racingpost.com/results/2005-01-01\"\n",
    "\n",
    "headers = {\n",
    "    \"accept\": \"text/html,application/xhtml+xml,application/xml;q=0.9,image/webp,image/apng,*/*;q=0.8,application/signed-exchange;v=b3;q=0.9\",\n",
    "    \"accept-language\": \"en-GB,en;q=0.9,en-US;q=0.8\",\n",
    "    \"sec-ch-ua\": \"\\\"Microsoft Edge\\\";v=\\\"105\\\", \\\" Not;A Brand\\\";v=\\\"99\\\", \\\"Chromium\\\";v=\\\"105\\\"\",\n",
    "    \"sec-ch-ua-mobile\": \"?0\",\n",
    "    \"sec-ch-ua-platform\": \"\\\"Windows\\\"\",\n",
    "    \"sec-fetch-dest\": \"document\",\n",
    "    \"sec-fetch-mode\": \"navigate\",\n",
    "    \"sec-fetch-site\": \"same-origin\",\n",
    "    \"sec-fetch-user\": \"?1\",\n",
    "    \"upgrade-insecure-requests\": \"1\"\n",
    "  }\n",
    "\n",
    "\n",
    "urlhtml = requests.get(url, headers=headers)\n",
    "soupthis = urlhtml.text\n",
    "soup = BeautifulSoup(soupthis, 'html.parser')"
   ]
  },
  {
   "cell_type": "code",
   "execution_count": 114,
   "metadata": {},
   "outputs": [
    {
     "name": "stdout",
     "output_type": "stream",
     "text": [
      "https://www.racingpost.com/results/2022-09-17\n",
      "https://www.racingpost.com/results/2022-09-16\n",
      "https://www.racingpost.com/results/2022-09-15\n",
      "https://www.racingpost.com/results/2022-09-14\n",
      "https://www.racingpost.com/results/2022-09-13\n",
      "https://www.racingpost.com/results/2022-09-12\n",
      "https://www.racingpost.com/results/2022-09-11\n",
      "https://www.racingpost.com/results/2022-09-10\n",
      "https://www.racingpost.com/results/2022-09-09\n",
      "https://www.racingpost.com/results/2022-09-08\n",
      "https://www.racingpost.com/results/2022-09-07\n"
     ]
    },
    {
     "ename": "KeyboardInterrupt",
     "evalue": "",
     "output_type": "error",
     "traceback": [
      "\u001b[1;31m---------------------------------------------------------------------------\u001b[0m",
      "\u001b[1;31mKeyboardInterrupt\u001b[0m                         Traceback (most recent call last)",
      "Cell \u001b[1;32mIn [114], line 19\u001b[0m\n\u001b[0;32m     17\u001b[0m \u001b[38;5;28mprint\u001b[39m(URL)\n\u001b[0;32m     18\u001b[0m a \u001b[38;5;241m=\u001b[39m random\u001b[38;5;241m.\u001b[39mrandint(\u001b[38;5;241m0\u001b[39m,\u001b[38;5;241m2\u001b[39m)\n\u001b[1;32m---> 19\u001b[0m \u001b[43mtime\u001b[49m\u001b[38;5;241;43m.\u001b[39;49m\u001b[43msleep\u001b[49m\u001b[43m(\u001b[49m\u001b[43ma\u001b[49m\u001b[43m)\u001b[49m\n",
      "\u001b[1;31mKeyboardInterrupt\u001b[0m: "
     ]
    }
   ],
   "source": [
    "\n",
    "\n",
    "datetime_object = datetime.datetime.now()\n",
    "\n",
    "url = \"https://www.racingpost.com/results/2005-01-01\"\n",
    "\n",
    "URLs = []\n",
    "\n",
    "for i in range(6200): # 6200\n",
    "    datetime_object = datetime_object - datetime.timedelta(days=1)\n",
    "    date = (str(datetime_object).split(\" \")[0])\n",
    "    URLs.append(url.replace(\"2005-01-01\", date))\n",
    "\n",
    "\n",
    "for URL in URLs:\n",
    "    print(URL)\n",
    "    raceURLs = []\n",
    "    \n",
    "    for item in soup.find_all('a', {'class':\"rp-raceCourse__panel__race__info__buttons__link\"}):\n",
    "        page = str(item).split('href=\"')[1]\n",
    "        page = page.split('\">')[0]\n",
    "        raceURLs.append(page)\n",
    "        a = random.randint(0,2)\n",
    "        time.sleep(a)\n",
    "\n",
    "    \n"
   ]
  }
 ],
 "metadata": {
  "kernelspec": {
   "display_name": "Python 3.9.0 64-bit",
   "language": "python",
   "name": "python3"
  },
  "language_info": {
   "codemirror_mode": {
    "name": "ipython",
    "version": 3
   },
   "file_extension": ".py",
   "mimetype": "text/x-python",
   "name": "python",
   "nbconvert_exporter": "python",
   "pygments_lexer": "ipython3",
   "version": "3.9.0"
  },
  "orig_nbformat": 4,
  "vscode": {
   "interpreter": {
    "hash": "0d591c6e422414675974e227c13f5382000c440fedd3c5006ef2be5d887f0ba7"
   }
  }
 },
 "nbformat": 4,
 "nbformat_minor": 2
}
